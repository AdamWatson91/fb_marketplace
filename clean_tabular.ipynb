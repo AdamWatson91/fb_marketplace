{
 "cells": [
  {
   "cell_type": "markdown",
   "metadata": {},
   "source": [
    "Import Data"
   ]
  },
  {
   "cell_type": "code",
   "execution_count": 1,
   "metadata": {},
   "outputs": [],
   "source": [
    "import pandas as pd\n",
    "import psycopg2\n",
    "from sqlalchemy import create_engine\n",
    "import os\n",
    "import json\n",
    "from pandas_profiling import ProfileReport\n",
    "import seaborn as sns\n",
    "import matplotlib.pyplot as plt\n",
    "%matplotlib inline\n",
    "from gensim.parsing.preprocessing import remove_stopwords\n",
    "import string\n",
    "import numpy as np\n",
    "from nltk.stem import PorterStemmer\n",
    "from nltk.tokenize import word_tokenize\n",
    "import webcolors\n",
    "\n",
    "# NEED TO CHECK IF CATEGORY TYPES ARE USED astype('catgeory') .info() to find what type\n",
    "\n",
    "# Get database connection credentials\n",
    "with open(os.path.join(os.getcwd(),'fb_marketplace_conn.json'), mode='r') as f:\n",
    "    database_dict = json.load(f)\n",
    "# Password for the database\n",
    "RDS_pass = 'aicore2022!'\n",
    "# Create engine to connect to database\n",
    "engine = create_engine(f\"{database_dict['DATABASE_TYPE']}+{database_dict['DBAPI']}://{database_dict['USER']}:{RDS_pass}@{database_dict['HOST']}:{database_dict['PORT']}/{database_dict['DATABASE']}\")\n",
    "# Import the tables as DataFrame\n",
    "products= pd.read_sql('products', engine)\n",
    "images = pd.read_sql('images', engine)"
   ]
  },
  {
   "cell_type": "markdown",
   "metadata": {},
   "source": [
    "Data cleansing functions"
   ]
  },
  {
   "cell_type": "code",
   "execution_count": 2,
   "metadata": {},
   "outputs": [],
   "source": [
    "def remove_outlier_iqr(df_in, col_name):\n",
    "    q1 = df_in[col_name].quantile(0.25)\n",
    "    q3 = df_in[col_name].quantile(0.75)\n",
    "    iqr = q3-q1 #Interquartile range\n",
    "    fence_low  = q1-1.5*iqr\n",
    "    fence_high = q3+1.5*iqr\n",
    "    df_out = df_in.loc[(df_in[col_name] > fence_low) & (df_in[col_name] < fence_high)]\n",
    "    return df_out\n",
    "\n",
    "def detect_outliers_iqr(data):\n",
    "    outliers = []\n",
    "    data = sorted(data)\n",
    "    q1 = np.percentile(data, 25)\n",
    "    q3 = np.percentile(data, 75)\n",
    "    # print(q1, q3)\n",
    "    IQR = q3-q1\n",
    "    lwr_bound = q1-(1.5*IQR)\n",
    "    upr_bound = q3+(1.5*IQR)\n",
    "    # print(lwr_bound, upr_bound)\n",
    "    for i in data: \n",
    "        if (i<lwr_bound or i>upr_bound):\n",
    "            outliers.append(i)\n",
    "    return outliers\n",
    "\n",
    "def detect_outliers_zscore(data):\n",
    "    outliers = []\n",
    "    thres = 3\n",
    "    mean = np.mean(data)\n",
    "    std = np.std(data)\n",
    "    # print(mean, std)\n",
    "    for i in data:\n",
    "        z_score = (i-mean)/std\n",
    "        if (np.abs(z_score) > thres):\n",
    "            outliers.append(i)\n",
    "    return outliers\n",
    "\n",
    "def remove_stop_punctuation_num(df_field):\n",
    "#Remove stopwords, punctuation and numbers\n",
    "    transformed_text = [remove_stopwords(x)\\\n",
    "            .translate(str.maketrans('','',string.punctuation))\\\n",
    "            .translate(str.maketrans('','',string.digits))\\\n",
    "            # for x in products_na_removed['product_name']]\n",
    "            for x in df_field]\n",
    "    return transformed_text\n",
    "    \n",
    "def stemSentence(sentence):\n",
    "    porter = PorterStemmer()\n",
    "    token_words = word_tokenize(sentence)\n",
    "    stem_sentence = [porter.stem(word) for word in token_words]\n",
    "    return ' '.join(stem_sentence)\n",
    "    # text3 = pd.Series([stemSentence(x) for x in transformed_text])"
   ]
  },
  {
   "cell_type": "markdown",
   "metadata": {},
   "source": [
    "Profile data"
   ]
  },
  {
   "cell_type": "code",
   "execution_count": 25,
   "metadata": {},
   "outputs": [
    {
     "name": "stderr",
     "output_type": "stream",
     "text": [
      "Summarize dataset: 100%|██████████| 23/23 [00:02<00:00,  9.33it/s, Completed]                           \n",
      "Generate report structure: 100%|██████████| 1/1 [00:01<00:00,  1.23s/it]\n",
      "Render HTML: 100%|██████████| 1/1 [00:00<00:00,  5.79it/s]\n",
      "Export report to file: 100%|██████████| 1/1 [00:00<00:00, 575.82it/s]\n"
     ]
    },
    {
     "name": "stdout",
     "output_type": "stream",
     "text": [
      "<class 'pandas.core.frame.DataFrame'>\n",
      "RangeIndex: 12604 entries, 0 to 12603\n",
      "Data columns (total 5 columns):\n",
      " #   Column       Non-Null Count  Dtype         \n",
      "---  ------       --------------  -----         \n",
      " 0   id           12604 non-null  object        \n",
      " 1   product_id   12604 non-null  object        \n",
      " 2   bucket_link  12604 non-null  object        \n",
      " 3   image_ref    12604 non-null  object        \n",
      " 4   create_time  12604 non-null  datetime64[ns]\n",
      "dtypes: datetime64[ns](1), object(4)\n",
      "memory usage: 492.5+ KB\n"
     ]
    },
    {
     "name": "stderr",
     "output_type": "stream",
     "text": [
      "Summarize dataset: 100%|██████████| 18/18 [00:00<00:00, 20.34it/s, Completed]                    \n",
      "Generate report structure: 100%|██████████| 1/1 [00:00<00:00,  2.48it/s]\n",
      "Render HTML: 100%|██████████| 1/1 [00:00<00:00, 13.53it/s]\n",
      "Export report to file: 100%|██████████| 1/1 [00:00<00:00, 1291.75it/s]\n"
     ]
    }
   ],
   "source": [
    "# https://www.analyticsvidhya.com/blog/2021/06/generate-reports-using-pandas-profiling-deploy-using-streamlit/products.info(verbose=True)\n",
    "prof = ProfileReport(products)\n",
    "prof.to_file(output_file='products.html')\n",
    "\n",
    "# Pandas profiling outcome\n",
    "    # # Product name 94.7 unique and mean lenght is 76 characters\n",
    "    # # Category - 11.6% N/A and 436 distinact categories \n",
    "    # # product_desciprtion 935 N/A, mostly unique\n",
    "    # # price 935 N/A  (so it seems N?As are acroos the board, but might not be) price is string\n",
    "    # # url not missing - interesting as this might help get product name"
   ]
  },
  {
   "cell_type": "markdown",
   "metadata": {},
   "source": [
    "Clean dataset"
   ]
  },
  {
   "cell_type": "code",
   "execution_count": 58,
   "metadata": {},
   "outputs": [
    {
     "name": "stderr",
     "output_type": "stream",
     "text": [
      "/tmp/ipykernel_25159/1068368795.py:18: SettingWithCopyWarning: \n",
      "A value is trying to be set on a copy of a slice from a DataFrame.\n",
      "Try using .loc[row_indexer,col_indexer] = value instead\n",
      "\n",
      "See the caveats in the documentation: https://pandas.pydata.org/pandas-docs/stable/user_guide/indexing.html#returning-a-view-versus-a-copy\n",
      "  products_na_removed[['city_town', 'county']] = products_na_removed['location'].str.split(',', expand=True)\n",
      "/tmp/ipykernel_25159/1068368795.py:18: SettingWithCopyWarning: \n",
      "A value is trying to be set on a copy of a slice from a DataFrame.\n",
      "Try using .loc[row_indexer,col_indexer] = value instead\n",
      "\n",
      "See the caveats in the documentation: https://pandas.pydata.org/pandas-docs/stable/user_guide/indexing.html#returning-a-view-versus-a-copy\n",
      "  products_na_removed[['city_town', 'county']] = products_na_removed['location'].str.split(',', expand=True)\n",
      "/tmp/ipykernel_25159/1068368795.py:24: SettingWithCopyWarning: \n",
      "A value is trying to be set on a copy of a slice from a DataFrame.\n",
      "Try using .loc[row_indexer,col_indexer] = value instead\n",
      "\n",
      "See the caveats in the documentation: https://pandas.pydata.org/pandas-docs/stable/user_guide/indexing.html#returning-a-view-versus-a-copy\n",
      "  products_na_removed[['price_gbp']] = products_na_removed[['price']].replace('[\\£,]', '', regex=True).astype(float)\n"
     ]
    },
    {
     "data": {
      "text/html": [
       "<div>\n",
       "<style scoped>\n",
       "    .dataframe tbody tr th:only-of-type {\n",
       "        vertical-align: middle;\n",
       "    }\n",
       "\n",
       "    .dataframe tbody tr th {\n",
       "        vertical-align: top;\n",
       "    }\n",
       "\n",
       "    .dataframe thead th {\n",
       "        text-align: right;\n",
       "    }\n",
       "</style>\n",
       "<table border=\"1\" class=\"dataframe\">\n",
       "  <thead>\n",
       "    <tr style=\"text-align: right;\">\n",
       "      <th></th>\n",
       "      <th>id</th>\n",
       "      <th>product_name</th>\n",
       "      <th>product_description</th>\n",
       "      <th>page_id</th>\n",
       "      <th>city_town</th>\n",
       "      <th>county</th>\n",
       "      <th>price_gbp</th>\n",
       "      <th>sub_cat_0</th>\n",
       "      <th>sub_cat_1</th>\n",
       "      <th>sub_cat_2</th>\n",
       "      <th>sub_cat_3</th>\n",
       "    </tr>\n",
       "  </thead>\n",
       "  <tbody>\n",
       "    <tr>\n",
       "      <th>1</th>\n",
       "      <td>243809c0-9cfc-4486-ad12-3b7a16605ba9</td>\n",
       "      <td>Mirror wall art</td>\n",
       "      <td>Mirror wall art. Posted by Nisha in Dining, Li...</td>\n",
       "      <td>1426704584</td>\n",
       "      <td>Wokingham</td>\n",
       "      <td>Berkshire</td>\n",
       "      <td>5.0</td>\n",
       "      <td>Home &amp; Garden</td>\n",
       "      <td>Dining, Living Room Furniture</td>\n",
       "      <td>Mirrors, Clocks &amp; Ornaments</td>\n",
       "      <td>None</td>\n",
       "    </tr>\n",
       "    <tr>\n",
       "      <th>2</th>\n",
       "      <td>1c58d3f9-8b93-47ea-9415-204fcc2a22e6</td>\n",
       "      <td>Stainless Steel Food Steamer</td>\n",
       "      <td>Morphy Richard’s (model no 48755)Stainless ste...</td>\n",
       "      <td>1426704579</td>\n",
       "      <td>Inverness</td>\n",
       "      <td>Highland</td>\n",
       "      <td>20.0</td>\n",
       "      <td>Home &amp; Garden</td>\n",
       "      <td>Other Household Goods</td>\n",
       "      <td>None</td>\n",
       "      <td>None</td>\n",
       "    </tr>\n",
       "    <tr>\n",
       "      <th>3</th>\n",
       "      <td>860673f1-57f6-47ba-8d2f-13f9e05b8f9a</td>\n",
       "      <td>Sun loungers</td>\n",
       "      <td>I have 2 of these - collection only as I don’t...</td>\n",
       "      <td>1426704576</td>\n",
       "      <td>Skegness</td>\n",
       "      <td>Lincolnshire</td>\n",
       "      <td>20.0</td>\n",
       "      <td>Home &amp; Garden</td>\n",
       "      <td>Garden &amp; Patio</td>\n",
       "      <td>Outdoor Settings &amp; Furniture</td>\n",
       "      <td>None</td>\n",
       "    </tr>\n",
       "    <tr>\n",
       "      <th>4</th>\n",
       "      <td>59948726-29be-4b35-ade5-bb2fd7331856</td>\n",
       "      <td>Coffee side table from Ammunition ammo box hai...</td>\n",
       "      <td>Great reclaimed army ammunition box used as co...</td>\n",
       "      <td>1426704575</td>\n",
       "      <td>Radstock</td>\n",
       "      <td>Somerset</td>\n",
       "      <td>115.0</td>\n",
       "      <td>Home &amp; Garden</td>\n",
       "      <td>Dining, Living Room Furniture</td>\n",
       "      <td>Other</td>\n",
       "      <td>None</td>\n",
       "    </tr>\n",
       "    <tr>\n",
       "      <th>5</th>\n",
       "      <td>16dbc860-696e-4cda-93f6-4dd4926573fb</td>\n",
       "      <td>Modern Shannon Sofa for sale at low cost</td>\n",
       "      <td>New Design Shannon Corner sofa  5 Seater Avail...</td>\n",
       "      <td>1426704570</td>\n",
       "      <td>Delph</td>\n",
       "      <td>Manchester</td>\n",
       "      <td>450.0</td>\n",
       "      <td>Home &amp; Garden</td>\n",
       "      <td>Dining, Living Room Furniture</td>\n",
       "      <td>Sofas, Armchairs &amp; Suites</td>\n",
       "      <td>Private</td>\n",
       "    </tr>\n",
       "  </tbody>\n",
       "</table>\n",
       "</div>"
      ],
      "text/plain": [
       "                                     id  \\\n",
       "1  243809c0-9cfc-4486-ad12-3b7a16605ba9   \n",
       "2  1c58d3f9-8b93-47ea-9415-204fcc2a22e6   \n",
       "3  860673f1-57f6-47ba-8d2f-13f9e05b8f9a   \n",
       "4  59948726-29be-4b35-ade5-bb2fd7331856   \n",
       "5  16dbc860-696e-4cda-93f6-4dd4926573fb   \n",
       "\n",
       "                                        product_name  \\\n",
       "1                                   Mirror wall art    \n",
       "2                      Stainless Steel Food Steamer    \n",
       "3                                      Sun loungers    \n",
       "4  Coffee side table from Ammunition ammo box hai...   \n",
       "5          Modern Shannon Sofa for sale at low cost    \n",
       "\n",
       "                                 product_description     page_id  city_town  \\\n",
       "1  Mirror wall art. Posted by Nisha in Dining, Li...  1426704584  Wokingham   \n",
       "2  Morphy Richard’s (model no 48755)Stainless ste...  1426704579  Inverness   \n",
       "3  I have 2 of these - collection only as I don’t...  1426704576   Skegness   \n",
       "4  Great reclaimed army ammunition box used as co...  1426704575   Radstock   \n",
       "5  New Design Shannon Corner sofa  5 Seater Avail...  1426704570      Delph   \n",
       "\n",
       "          county  price_gbp       sub_cat_0                        sub_cat_1  \\\n",
       "1      Berkshire        5.0  Home & Garden    Dining, Living Room Furniture    \n",
       "2       Highland       20.0  Home & Garden             Other Household Goods   \n",
       "3   Lincolnshire       20.0  Home & Garden                   Garden & Patio    \n",
       "4       Somerset      115.0  Home & Garden    Dining, Living Room Furniture    \n",
       "5     Manchester      450.0  Home & Garden    Dining, Living Room Furniture    \n",
       "\n",
       "                       sub_cat_2 sub_cat_3  \n",
       "1    Mirrors, Clocks & Ornaments      None  \n",
       "2                           None      None  \n",
       "3   Outdoor Settings & Furniture      None  \n",
       "4                          Other      None  \n",
       "5     Sofas, Armchairs & Suites    Private  "
      ]
     },
     "execution_count": 58,
     "metadata": {},
     "output_type": "execute_result"
    }
   ],
   "source": [
    "# Good site https://www.justintodata.com/data-cleaning-techniques-python-guide/\n",
    "\n",
    "# plt.figure(figsize=(10,8))\n",
    "# Heat map to show missing data across colunms\n",
    "# It shows that N/A values are across specific colunmns and that by removing these we would not lose any useful information\n",
    "# colours = ['#000099', '#ffff00'] # specify colours: yellow - missing. blue - not missing\n",
    "# sns.heatmap(products == 'N/A', cmap=sns.color_palette(colours))\n",
    "# Remove N/A rows\n",
    "# This method removes the rows completely from products, even when assigning to var\n",
    "# products_na_removed = products.drop(products[products['category'] == 'N/A'].index, inplace=True)\n",
    "# This methods filters products and can assign to the variable so that the products full dataframe remains\n",
    "products_na_removed = products.loc[products['category'] != 'N/A']\n",
    "\n",
    "# Make location useful\n",
    "# Split by , to get the city and county\n",
    "# Consider using this for mapping\n",
    "# Remove the location field once split\n",
    "products_na_removed[['city_town', 'county']] = products_na_removed['location'].str.split(',', expand=True)\n",
    "# products_na_removed.drop('location', axis=1, inplace=True)\n",
    "\n",
    "# Make the price field useable for summary statistics and predictions   \n",
    "    # Convert price to a float without £ symbol, and rename pcolunm name t state currency (£)\n",
    "    # May convert to bins and even give categorical low, medium, high\n",
    "products_na_removed[['price_gbp']] = products_na_removed[['price']].replace('[\\£,]', '', regex=True).astype(float)\n",
    "# products_na_removed.drop('price', axis=1, inplace=True)\n",
    "# Remove outliers based on outlier analysis - z-score method used\n",
    "# Just 5 products above this price - all but one were clearly not representative of \n",
    "# the actual price. One was but this was not representative of a product sold on the \n",
    "# fb marketplace (investment)\n",
    "products_na_removed = products_na_removed.loc[products_na_removed['price_gbp'] < 399000]\n",
    "\n",
    "# Extract the various categories for products\n",
    "# Find the max count of catgeories using '/' as the delimiter\n",
    "max_categories = products_na_removed['category'].str.count('/').max()\n",
    "# split by / and create multiple category fields\n",
    "sub_categories = products_na_removed['category'].str.split('/', expand=True).reindex(range(max_categories), axis=1).add_prefix('sub_cat_').fillna('None')\n",
    "# join the sub catgeories to the original dataframe and rename\n",
    "products_na_removed = pd.concat([products_na_removed,sub_categories], axis=1)\n",
    "# Remove original catgeory field\n",
    "# products_na_removed.drop('category', axis=1, inplace=True)\n",
    "\n",
    "# Get simpliest form to name a product\n",
    "# Extract just product name from product name\n",
    "products_na_removed['product_name'] = products_na_removed['product_name'].str.split('|', expand=True).reindex(range(1), axis=1)\n",
    "\n",
    "# Drop fields not required for further analysis\n",
    "products_na_removed.drop(['price','location', 'url', 'create_time', 'category'], axis=1, inplace=True)\n",
    "\n",
    "products_na_removed.head()\n"
   ]
  },
  {
   "cell_type": "markdown",
   "metadata": {},
   "source": [
    "Cleaned tabular profiling"
   ]
  },
  {
   "cell_type": "code",
   "execution_count": 57,
   "metadata": {},
   "outputs": [
    {
     "name": "stderr",
     "output_type": "stream",
     "text": [
      "Summarize dataset: 100%|██████████| 34/34 [00:04<00:00,  8.17it/s, Completed]                            \n",
      "Generate report structure: 100%|██████████| 1/1 [00:01<00:00,  1.79s/it]\n",
      "Render HTML: 100%|██████████| 1/1 [00:00<00:00,  2.93it/s]\n",
      "Export report to file: 100%|██████████| 1/1 [00:00<00:00, 328.89it/s]\n"
     ]
    }
   ],
   "source": [
    "prof = ProfileReport(products_na_removed)\n",
    "prof.to_file(output_file='cleaned_products.html')\n",
    "\n",
    "# Observations from new profile\n",
    "## County has 3.6% (255) missing values and the data is skewed to London\n",
    "## Price - there is a maximum value of 10000000 and 92 records with 0 price - remove outliers - DONE"
   ]
  },
  {
   "cell_type": "markdown",
   "metadata": {},
   "source": [
    "Price outliers"
   ]
  },
  {
   "cell_type": "code",
   "execution_count": null,
   "metadata": {},
   "outputs": [],
   "source": [
    "# Noote the below will not work now as the outliers identified were removed\n",
    "# Just 5 products above this price - all but one were clearly not representative of the actual price. One was but this was not representative of a product sold on the fb marketplace (investment)\n",
    "# outliers = products_na_removed.loc[products_na_removed['price_gbp'] >= 399000]\n",
    "# outlier_count = outliers['id'].nunique()\n",
    "# print(outlier_count)\n",
    "# outliers.head()"
   ]
  },
  {
   "cell_type": "markdown",
   "metadata": {},
   "source": [
    "IQR method"
   ]
  },
  {
   "cell_type": "code",
   "execution_count": null,
   "metadata": {},
   "outputs": [],
   "source": [
    "sample_outliers_iqr = detect_outliers_iqr(list(products_na_removed['price_gbp']))\n",
    "print(\"Outliers from IQR method: \", sample_outliers_iqr)\n",
    "# This method considered all values above 359 as outliers. However, the products above this price were representative of products on the marketplace."
   ]
  },
  {
   "cell_type": "markdown",
   "metadata": {},
   "source": [
    "Z-score method"
   ]
  },
  {
   "cell_type": "code",
   "execution_count": null,
   "metadata": {},
   "outputs": [],
   "source": [
    "sample_outliers_zscore = detect_outliers_zscore(list(products_na_removed['price_gbp']))\n",
    "print(\"Outliers from Z-scores method: \", sample_outliers_zscore)\n",
    "max(sample_outliers_zscore)"
   ]
  },
  {
   "cell_type": "markdown",
   "metadata": {},
   "source": [
    "Box plot method"
   ]
  },
  {
   "cell_type": "code",
   "execution_count": 8,
   "metadata": {},
   "outputs": [
    {
     "data": {
      "text/plain": [
       "Text(0.5, 0, 'Price')"
      ]
     },
     "execution_count": 8,
     "metadata": {},
     "output_type": "execute_result"
    },
    {
     "data": {
      "image/png": "[encoded data removed]",
      "text/plain": [
       "<Figure size 432x288 with 1 Axes>"
      ]
     },
     "metadata": {
      "needs_background": "light"
     },
     "output_type": "display_data"
    }
   ],
   "source": [
    "# sns.boxplot(x=products_na_removed[\"price_gbp\"])\n",
    "plt.boxplot(products_na_removed[['price_gbp']], vert=False)\n",
    "plt.title(\"Detecting outliers using Boxplot\")\n",
    "plt.xlabel('Price')"
   ]
  },
  {
   "cell_type": "markdown",
   "metadata": {},
   "source": [
    "Looking at county missing values\n",
    "was looking to join from those that we were able to identify the county"
   ]
  },
  {
   "cell_type": "code",
   "execution_count": 56,
   "metadata": {},
   "outputs": [
    {
     "data": {
      "text/html": [
       "<div>\n",
       "<style scoped>\n",
       "    .dataframe tbody tr th:only-of-type {\n",
       "        vertical-align: middle;\n",
       "    }\n",
       "\n",
       "    .dataframe tbody tr th {\n",
       "        vertical-align: top;\n",
       "    }\n",
       "\n",
       "    .dataframe thead th {\n",
       "        text-align: right;\n",
       "    }\n",
       "</style>\n",
       "<table border=\"1\" class=\"dataframe\">\n",
       "  <thead>\n",
       "    <tr style=\"text-align: right;\">\n",
       "      <th></th>\n",
       "      <th>product_name</th>\n",
       "      <th>product_description</th>\n",
       "      <th>page_id</th>\n",
       "      <th>city_town</th>\n",
       "      <th>county</th>\n",
       "      <th>price_gbp</th>\n",
       "      <th>sub_cat_0</th>\n",
       "      <th>sub_cat_1</th>\n",
       "      <th>sub_cat_2</th>\n",
       "      <th>sub_cat_3</th>\n",
       "    </tr>\n",
       "  </thead>\n",
       "  <tbody>\n",
       "    <tr>\n",
       "      <th>86</th>\n",
       "      <td>Cushion cover</td>\n",
       "      <td>1 cushion cover with pompom design  brand new ...</td>\n",
       "      <td>1426701668</td>\n",
       "      <td>Swansea</td>\n",
       "      <td>None</td>\n",
       "      <td>2.0</td>\n",
       "      <td>Home &amp; Garden</td>\n",
       "      <td>Other Household Goods</td>\n",
       "      <td>None</td>\n",
       "      <td>None</td>\n",
       "    </tr>\n",
       "    <tr>\n",
       "      <th>91</th>\n",
       "      <td>White metal lampshades</td>\n",
       "      <td>Pair of fairly new lampshades. As seen in fina...</td>\n",
       "      <td>1426578074</td>\n",
       "      <td>London</td>\n",
       "      <td>None</td>\n",
       "      <td>10.0</td>\n",
       "      <td>Home &amp; Garden</td>\n",
       "      <td>Dining, Living Room Furniture</td>\n",
       "      <td>Lighting &amp; Fittings</td>\n",
       "      <td>None</td>\n",
       "    </tr>\n",
       "    <tr>\n",
       "      <th>127</th>\n",
       "      <td>MDF Radiator Cover</td>\n",
       "      <td>Can be painted to match any room, W 66.5cm x D...</td>\n",
       "      <td>1426702680</td>\n",
       "      <td>Dundee</td>\n",
       "      <td>None</td>\n",
       "      <td>25.0</td>\n",
       "      <td>Home &amp; Garden</td>\n",
       "      <td>Other Household Goods</td>\n",
       "      <td>None</td>\n",
       "      <td>None</td>\n",
       "    </tr>\n",
       "    <tr>\n",
       "      <th>143</th>\n",
       "      <td>February Sale offer hilton bed with mattress a...</td>\n",
       "      <td>💓Brand New All Beds 🛏️ Avaliable Here Please T...</td>\n",
       "      <td>1426702646</td>\n",
       "      <td>Cardiff</td>\n",
       "      <td>None</td>\n",
       "      <td>199.0</td>\n",
       "      <td>Home &amp; Garden</td>\n",
       "      <td>Beds &amp; Bedroom Furniture</td>\n",
       "      <td>Single Beds</td>\n",
       "      <td>Private</td>\n",
       "    </tr>\n",
       "    <tr>\n",
       "      <th>175</th>\n",
       "      <td>Clear glass splashback</td>\n",
       "      <td>Clear glass splashback, H745 x W595xD6 \\rOrder...</td>\n",
       "      <td>1426675365</td>\n",
       "      <td>Dundee</td>\n",
       "      <td>None</td>\n",
       "      <td>25.0</td>\n",
       "      <td>Home &amp; Garden</td>\n",
       "      <td>Kitchenware &amp; Accessories</td>\n",
       "      <td>Tableware</td>\n",
       "      <td>Glassware</td>\n",
       "    </tr>\n",
       "  </tbody>\n",
       "</table>\n",
       "</div>"
      ],
      "text/plain": [
       "                                          product_name  \\\n",
       "86                                      Cushion cover    \n",
       "91                             White metal lampshades    \n",
       "127                                MDF Radiator Cover    \n",
       "143  February Sale offer hilton bed with mattress a...   \n",
       "175                            Clear glass splashback    \n",
       "\n",
       "                                   product_description     page_id city_town  \\\n",
       "86   1 cushion cover with pompom design  brand new ...  1426701668   Swansea   \n",
       "91   Pair of fairly new lampshades. As seen in fina...  1426578074    London   \n",
       "127  Can be painted to match any room, W 66.5cm x D...  1426702680    Dundee   \n",
       "143  💓Brand New All Beds 🛏️ Avaliable Here Please T...  1426702646   Cardiff   \n",
       "175  Clear glass splashback, H745 x W595xD6 \\rOrder...  1426675365    Dundee   \n",
       "\n",
       "    county  price_gbp       sub_cat_0                        sub_cat_1  \\\n",
       "86    None        2.0  Home & Garden             Other Household Goods   \n",
       "91    None       10.0  Home & Garden    Dining, Living Room Furniture    \n",
       "127   None       25.0  Home & Garden             Other Household Goods   \n",
       "143   None      199.0  Home & Garden         Beds & Bedroom Furniture    \n",
       "175   None       25.0  Home & Garden        Kitchenware & Accessories    \n",
       "\n",
       "                sub_cat_2   sub_cat_3  \n",
       "86                   None        None  \n",
       "91    Lighting & Fittings        None  \n",
       "127                  None        None  \n",
       "143          Single Beds      Private  \n",
       "175            Tableware    Glassware  "
      ]
     },
     "execution_count": 56,
     "metadata": {},
     "output_type": "execute_result"
    }
   ],
   "source": [
    "missing_county = products_na_removed.loc[products_na_removed['county'].isna()]\n",
    "missing_county.head()\n",
    "# county_lookup = pd.DataFrame(products_na_removed[['city_town', 'county']].groupby(['city_town', 'county']).size()).reset_index()\n",
    "# county_lookup.loc[products_na_removed['county'] == 'Swansea']\n",
    "# county_lookup = county_lookup.loc[county_lookup['city_town']  == 'London']\n",
    "# county_lookup.head()\n",
    "# missing_county.merge(county_lookup, left_on='city_town', right_on='city_town')\n",
    "# missing_county\n",
    "# missing_county.to_csv('missing_county.csv')\n"
   ]
  }
 ],
 "metadata": {
  "interpreter": {
   "hash": "8ad305deca811d2df6c57b148dec1e835d783e41823b85ed7281e336135b66d8"
  },
  "kernelspec": {
   "display_name": "Python 3.9.7 ('fb_marketplace')",
   "language": "python",
   "name": "python3"
  },
  "language_info": {
   "codemirror_mode": {
    "name": "ipython",
    "version": 3
   },
   "file_extension": ".py",
   "mimetype": "text/x-python",
   "name": "python",
   "nbconvert_exporter": "python",
   "pygments_lexer": "ipython3",
   "version": "3.9.7"
  },
  "orig_nbformat": 4
 },
 "nbformat": 4,
 "nbformat_minor": 2
}
