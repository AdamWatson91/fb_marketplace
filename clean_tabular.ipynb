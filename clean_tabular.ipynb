{
 "cells": [
  {
   "cell_type": "markdown",
   "metadata": {},
   "source": [
    "Import Data"
   ]
  },
  {
   "cell_type": "code",
   "execution_count": 13,
   "metadata": {},
   "outputs": [],
   "source": [
    "import pandas as pd\n",
    "import psycopg2\n",
    "from sqlalchemy import create_engine\n",
    "import os\n",
    "import json\n",
    "\n",
    "# Get database connection credentials\n",
    "with open(os.path.join(os.getcwd(),'fb_marketplace_conn.json'), mode='r') as f:\n",
    "    database_dict = json.load(f)\n",
    "# Password for the database\n",
    "RDS_pass = 'aicore2022!'\n",
    "# Create engine to connect to database\n",
    "engine = create_engine(f\"{database_dict['DATABASE_TYPE']}+{database_dict['DBAPI']}://{database_dict['USER']}:{RDS_pass}@{database_dict['HOST']}:{database_dict['PORT']}/{database_dict['DATABASE']}\")\n",
    "# Import the tables as DataFrame\n",
    "products = pd.read_sql('products', engine)\n",
    "images = pd.read_sql('images', engine)"
   ]
  },
  {
   "cell_type": "markdown",
   "metadata": {},
   "source": [
    "count number of products"
   ]
  },
  {
   "cell_type": "code",
   "execution_count": 22,
   "metadata": {},
   "outputs": [
    {
     "name": "stdout",
     "output_type": "stream",
     "text": [
      "The number of products in the database is 8091\n",
      "The number of unique create_times is 8091\n",
      "The number of images in the database is 12604\n",
      "The number of unique create_times is 3\n"
     ]
    }
   ],
   "source": [
    "# Count number of products\n",
    "print(f'The number of products in the database is {len(products)}')\n",
    "# Are all the products actually unique?\n",
    "unique_products = products['id'].nunique()\n",
    "print(f'The number of unique products is {unique_products}')\n",
    "# Count number of images\n",
    "print(f'The number of images in the database is {len(images)}')\n",
    "# Are all the images actually unique?\n",
    "unique_images = images['id'].nunique()\n",
    "print(f'The number of unique images is {unique_images}')\n",
    "# Count unique create_date to see if it is all the same\n",
    "create_time_unique = products['create_time'].nunique()\n",
    "print(f'The number of unique create_times is {create_time_unique}')"
   ]
  },
  {
   "cell_type": "markdown",
   "metadata": {},
   "source": [
    "Clean dataset"
   ]
  },
  {
   "cell_type": "code",
   "execution_count": 16,
   "metadata": {},
   "outputs": [
    {
     "name": "stdout",
     "output_type": "stream",
     "text": [
      "0       https://www.gumtree.com/p/sofas/quality-durest...\n",
      "1       https://www.gumtree.com/p/mirrors-clocks-ornam...\n",
      "2       https://www.gumtree.com/p/other-household-good...\n",
      "3       https://www.gumtree.com/p/outdoor-settings-fur...\n",
      "4       https://www.gumtree.com/p/other-dining-living-...\n",
      "                              ...                        \n",
      "8086    https://www.gumtree.com/p/ps4/playstation-vr-v...\n",
      "8087    https://www.gumtree.com/p/ps5/ps5-sony-playsta...\n",
      "8088    https://www.gumtree.com/p/other-video-games/oc...\n",
      "8089    https://www.gumtree.com/p/other-video-game-acc...\n",
      "8090    https://www.gumtree.com/p/video-games/20-games...\n",
      "Name: url, Length: 8091, dtype: object\n"
     ]
    }
   ],
   "source": [
    "# Extract just product name from product name\n",
    "# Extract the various categories - split by /\n",
    "# Count the number of NaN in each column and decide what to do, impute, remove etc.\n",
    "# Could get the second from last index from url - seems the most complete version of the description - Could take hirearchy approach , name, url, description\n",
    "print(products['url'])"
   ]
  }
 ],
 "metadata": {
  "interpreter": {
   "hash": "8ad305deca811d2df6c57b148dec1e835d783e41823b85ed7281e336135b66d8"
  },
  "kernelspec": {
   "display_name": "Python 3.9.7 ('fb_marketplace')",
   "language": "python",
   "name": "python3"
  },
  "language_info": {
   "codemirror_mode": {
    "name": "ipython",
    "version": 3
   },
   "file_extension": ".py",
   "mimetype": "text/x-python",
   "name": "python",
   "nbconvert_exporter": "python",
   "pygments_lexer": "ipython3",
   "version": "3.9.7"
  },
  "orig_nbformat": 4
 },
 "nbformat": 4,
 "nbformat_minor": 2
}
