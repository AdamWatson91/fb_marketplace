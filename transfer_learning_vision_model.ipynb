{
 "cells": [
  {
   "cell_type": "code",
   "execution_count": 84,
   "metadata": {},
   "outputs": [],
   "source": [
    "import pandas as pd\n",
    "from torch.utils.data import Dataset, DataLoader\n",
    "import torch\n",
    "\n",
    "\n",
    "class CNN(torch.nn.Module):\n",
    "    def __init__(self):\n",
    "        super().__init__()\n",
    "        self.layers = torch.nn.Sequential(\n",
    "            torch.nn.Conv2d(3, 8, 9),\n",
    "            torch.nn.Flatten(),  # flatten\n",
    "            # simplify further with linear layers\n",
    "            torch.nn.Linear(25088, 13),\n",
    "            torch.nn.Softmax(dim=1)  # turn into probabilities\n",
    "        )\n",
    "\n",
    "    def forward(self, features):\n",
    "        return self.layers(features)"
   ]
  },
  {
   "cell_type": "code",
   "execution_count": 85,
   "metadata": {},
   "outputs": [],
   "source": [
    "import torchvision"
   ]
  },
  {
   "cell_type": "code",
   "execution_count": 86,
   "metadata": {},
   "outputs": [],
   "source": [
    "class ProductImageCategoryDataset(Dataset):\n",
    "    def __init__(self):\n",
    "        super().__init__()\n",
    "        self.X = pd.read_pickle('image_model_X.pkl')\n",
    "        self.y = pd.read_pickle('image_model_y.pkl')\n",
    "        assert len(self.X) == len(self.y)\n",
    "\n",
    "    def __getitem__(self, index):\n",
    "        features = self.X.iloc[index]\n",
    "        label = self.y.iloc[index]\n",
    "        print(index)\n",
    "        features = torch.tensor(features).float()\n",
    "        features = features.reshape(3, 64, 64)\n",
    "\n",
    "        label = int(label)\n",
    "\n",
    "        return (features, label)\n",
    "\n",
    "    def __len__(self):\n",
    "        return len(self.X)\n",
    "\n",
    "\n",
    "dataset = ProductImageCategoryDataset()\n",
    "# print(len(dataset))\n",
    "# dataset[11643]"
   ]
  },
  {
   "cell_type": "code",
   "execution_count": 87,
   "metadata": {},
   "outputs": [
    {
     "name": "stdout",
     "output_type": "stream",
     "text": [
      "0\n"
     ]
    },
    {
     "data": {
      "text/plain": [
       "(tensor([[[  4.,   0.,   0.,  ...,  99.,  90., 104.],\n",
       "          [ 99.,  93., 104.,  ..., 222., 116., 153.],\n",
       "          [231., 116., 167.,  ...,   0.,   3.,   9.],\n",
       "          ...,\n",
       "          [ 80.,  74.,  62.,  ...,  92.,  94.,  96.],\n",
       "          [ 93.,  92.,  97.,  ...,   0.,   0.,   0.],\n",
       "          [  4.,   0.,   0.,  ...,  91.,  85.,  75.]],\n",
       " \n",
       "         [[ 77.,  72.,  60.,  ...,  77.,  80.,  85.],\n",
       "          [ 81.,  86.,  91.,  ...,   0.,   0.,   0.],\n",
       "          [  4.,   0.,   0.,  ...,  93.,  87.,  75.],\n",
       "          ...,\n",
       "          [118., 158., 159.,  ...,   0.,   0.,   2.],\n",
       "          [  0.,   2.,   0.,  ..., 112., 106.,  56.],\n",
       "          [ 58.,  53.,  47.,  ...,  70.,  88.,  89.]],\n",
       " \n",
       "         [[ 83., 128., 129.,  ...,   0.,   0.,   2.],\n",
       "          [  0.,   2.,   0.,  ...,  87.,  80.,  41.],\n",
       "          [ 46.,  40.,  51.,  ...,  79.,  61.,  62.],\n",
       "          ...,\n",
       "          [  3.,   0.,   0.,  ...,  97.,  90.,  98.],\n",
       "          [107., 104., 105.,  ..., 154., 147., 146.],\n",
       "          [152., 145., 144.,  ...,   0.,   0.,   0.]]]),\n",
       " 6)"
      ]
     },
     "execution_count": 87,
     "metadata": {},
     "output_type": "execute_result"
    }
   ],
   "source": [
    "dataset[0]"
   ]
  },
  {
   "cell_type": "code",
   "execution_count": 88,
   "metadata": {},
   "outputs": [
    {
     "name": "stdout",
     "output_type": "stream",
     "text": [
      "0\n"
     ]
    },
    {
     "data": {
      "text/plain": [
       "torch.Tensor"
      ]
     },
     "execution_count": 88,
     "metadata": {},
     "output_type": "execute_result"
    }
   ],
   "source": [
    "type(dataset[0][0])"
   ]
  },
  {
   "cell_type": "code",
   "execution_count": 89,
   "metadata": {},
   "outputs": [
    {
     "name": "stdout",
     "output_type": "stream",
     "text": [
      "0\n"
     ]
    },
    {
     "data": {
      "text/plain": [
       "int"
      ]
     },
     "execution_count": 89,
     "metadata": {},
     "output_type": "execute_result"
    }
   ],
   "source": [
    "type(dataset[0][1])"
   ]
  },
  {
   "cell_type": "code",
   "execution_count": 90,
   "metadata": {},
   "outputs": [],
   "source": [
    "train_loader = DataLoader(dataset, batch_size=4, shuffle=True)"
   ]
  },
  {
   "cell_type": "code",
   "execution_count": 118,
   "metadata": {},
   "outputs": [
    {
     "name": "stdout",
     "output_type": "stream",
     "text": [
      "4944\n",
      "982\n",
      "2629\n",
      "816\n",
      "tensor([[1.8668e-23, 2.0138e-25, 6.1949e-22, 0.0000e+00, 8.1707e-37, 1.0000e+00,\n",
      "         5.5065e-31, 3.3900e-36, 2.0534e-25, 3.8940e-13, 1.2798e-26, 2.4506e-32,\n",
      "         0.0000e+00],\n",
      "        [4.5055e-21, 1.1530e-23, 2.4939e-27, 0.0000e+00, 1.3697e-34, 1.0000e+00,\n",
      "         5.4836e-21, 1.8120e-26, 2.8629e-24, 3.9630e-09, 1.0338e-30, 2.8267e-16,\n",
      "         4.4274e-35],\n",
      "        [3.9819e-36, 1.8722e-38, 1.7469e-33, 0.0000e+00, 0.0000e+00, 1.0000e+00,\n",
      "         4.0737e-39, 7.9874e-44, 0.0000e+00, 7.2007e-24, 8.4078e-45, 0.0000e+00,\n",
      "         0.0000e+00],\n",
      "        [8.5372e-09, 1.0142e-31, 3.1326e-15, 1.4013e-45, 1.3073e-29, 1.0000e+00,\n",
      "         4.2026e-27, 4.1932e-18, 1.6816e-44, 3.1953e-12, 6.1829e-30, 9.2666e-17,\n",
      "         1.5497e-39]], grad_fn=<SoftmaxBackward0>)\n",
      "4\n",
      "13\n",
      "tensor(1., grad_fn=<MaxBackward1>)\n",
      "tensor(5)\n"
     ]
    }
   ],
   "source": [
    "model = CNN()\n",
    "\n",
    "for batch in train_loader:\n",
    "    # print(batch)\n",
    "    features, labels = batch\n",
    "    predction = model(features)\n",
    "    break\n",
    "\n",
    "print(predction)\n",
    "print(len(predction))\n",
    "print(len(predction[0]))\n",
    "print(torch.max(predction[0]))\n",
    "print(torch.argmax(predction[0]))\n"
   ]
  }
 ],
 "metadata": {
  "interpreter": {
   "hash": "8ad305deca811d2df6c57b148dec1e835d783e41823b85ed7281e336135b66d8"
  },
  "kernelspec": {
   "display_name": "Python 3.9.7 ('fb_marketplace')",
   "language": "python",
   "name": "python3"
  },
  "language_info": {
   "codemirror_mode": {
    "name": "ipython",
    "version": 3
   },
   "file_extension": ".py",
   "mimetype": "text/x-python",
   "name": "python",
   "nbconvert_exporter": "python",
   "pygments_lexer": "ipython3",
   "version": "3.9.7"
  },
  "orig_nbformat": 4
 },
 "nbformat": 4,
 "nbformat_minor": 2
}
