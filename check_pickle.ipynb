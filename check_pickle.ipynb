{
 "cells": [
  {
   "cell_type": "code",
   "execution_count": 31,
   "metadata": {},
   "outputs": [
    {
     "ename": "InvalidIndexError",
     "evalue": "Reindexing only valid with uniquely valued Index objects",
     "output_type": "error",
     "traceback": [
      "\u001b[0;31m---------------------------------------------------------------------------\u001b[0m",
      "\u001b[0;31mInvalidIndexError\u001b[0m                         Traceback (most recent call last)",
      "\u001b[1;32m/home/adamw/Documents/AiCore/fb_marketplace/check_pickle.ipynb Cell 1'\u001b[0m in \u001b[0;36m<cell line: 14>\u001b[0;34m()\u001b[0m\n\u001b[1;32m     <a href='vscode-notebook-cell:/home/adamw/Documents/AiCore/fb_marketplace/check_pickle.ipynb#ch0000000?line=11'>12</a>\u001b[0m products \u001b[39m=\u001b[39m pd\u001b[39m.\u001b[39mread_pickle(\u001b[39m'\u001b[39m\u001b[39mcleaned_products.pkl\u001b[39m\u001b[39m'\u001b[39m)\n\u001b[1;32m     <a href='vscode-notebook-cell:/home/adamw/Documents/AiCore/fb_marketplace/check_pickle.ipynb#ch0000000?line=12'>13</a>\u001b[0m \u001b[39m# old_cleaned_products = products.to_csv('old_cleaned_products.csv')\u001b[39;00m\n\u001b[0;32m---> <a href='vscode-notebook-cell:/home/adamw/Documents/AiCore/fb_marketplace/check_pickle.ipynb#ch0000000?line=13'>14</a>\u001b[0m joined_products \u001b[39m=\u001b[39m pd\u001b[39m.\u001b[39;49mconcat([products, old_products], axis\u001b[39m=\u001b[39;49m\u001b[39m1\u001b[39;49m, join\u001b[39m=\u001b[39;49m\u001b[39m'\u001b[39;49m\u001b[39minner\u001b[39;49m\u001b[39m'\u001b[39;49m)\n\u001b[1;32m     <a href='vscode-notebook-cell:/home/adamw/Documents/AiCore/fb_marketplace/check_pickle.ipynb#ch0000000?line=15'>16</a>\u001b[0m \u001b[39m# products.info()\u001b[39;00m\n\u001b[1;32m     <a href='vscode-notebook-cell:/home/adamw/Documents/AiCore/fb_marketplace/check_pickle.ipynb#ch0000000?line=16'>17</a>\u001b[0m products\u001b[39m.\u001b[39mhead()\n",
      "File \u001b[0;32m~/miniconda3/envs/fb_marketplace/lib/python3.9/site-packages/pandas/util/_decorators.py:311\u001b[0m, in \u001b[0;36mdeprecate_nonkeyword_arguments.<locals>.decorate.<locals>.wrapper\u001b[0;34m(*args, **kwargs)\u001b[0m\n\u001b[1;32m    <a href='file:///home/adamw/miniconda3/envs/fb_marketplace/lib/python3.9/site-packages/pandas/util/_decorators.py?line=304'>305</a>\u001b[0m \u001b[39mif\u001b[39;00m \u001b[39mlen\u001b[39m(args) \u001b[39m>\u001b[39m num_allow_args:\n\u001b[1;32m    <a href='file:///home/adamw/miniconda3/envs/fb_marketplace/lib/python3.9/site-packages/pandas/util/_decorators.py?line=305'>306</a>\u001b[0m     warnings\u001b[39m.\u001b[39mwarn(\n\u001b[1;32m    <a href='file:///home/adamw/miniconda3/envs/fb_marketplace/lib/python3.9/site-packages/pandas/util/_decorators.py?line=306'>307</a>\u001b[0m         msg\u001b[39m.\u001b[39mformat(arguments\u001b[39m=\u001b[39marguments),\n\u001b[1;32m    <a href='file:///home/adamw/miniconda3/envs/fb_marketplace/lib/python3.9/site-packages/pandas/util/_decorators.py?line=307'>308</a>\u001b[0m         \u001b[39mFutureWarning\u001b[39;00m,\n\u001b[1;32m    <a href='file:///home/adamw/miniconda3/envs/fb_marketplace/lib/python3.9/site-packages/pandas/util/_decorators.py?line=308'>309</a>\u001b[0m         stacklevel\u001b[39m=\u001b[39mstacklevel,\n\u001b[1;32m    <a href='file:///home/adamw/miniconda3/envs/fb_marketplace/lib/python3.9/site-packages/pandas/util/_decorators.py?line=309'>310</a>\u001b[0m     )\n\u001b[0;32m--> <a href='file:///home/adamw/miniconda3/envs/fb_marketplace/lib/python3.9/site-packages/pandas/util/_decorators.py?line=310'>311</a>\u001b[0m \u001b[39mreturn\u001b[39;00m func(\u001b[39m*\u001b[39;49margs, \u001b[39m*\u001b[39;49m\u001b[39m*\u001b[39;49mkwargs)\n",
      "File \u001b[0;32m~/miniconda3/envs/fb_marketplace/lib/python3.9/site-packages/pandas/core/reshape/concat.py:359\u001b[0m, in \u001b[0;36mconcat\u001b[0;34m(objs, axis, join, ignore_index, keys, levels, names, verify_integrity, sort, copy)\u001b[0m\n\u001b[1;32m    <a href='file:///home/adamw/miniconda3/envs/fb_marketplace/lib/python3.9/site-packages/pandas/core/reshape/concat.py?line=154'>155</a>\u001b[0m \u001b[39m\"\"\"\u001b[39;00m\n\u001b[1;32m    <a href='file:///home/adamw/miniconda3/envs/fb_marketplace/lib/python3.9/site-packages/pandas/core/reshape/concat.py?line=155'>156</a>\u001b[0m \u001b[39mConcatenate pandas objects along a particular axis with optional set logic\u001b[39;00m\n\u001b[1;32m    <a href='file:///home/adamw/miniconda3/envs/fb_marketplace/lib/python3.9/site-packages/pandas/core/reshape/concat.py?line=156'>157</a>\u001b[0m \u001b[39malong the other axes.\u001b[39;00m\n\u001b[0;32m   (...)\u001b[0m\n\u001b[1;32m    <a href='file:///home/adamw/miniconda3/envs/fb_marketplace/lib/python3.9/site-packages/pandas/core/reshape/concat.py?line=343'>344</a>\u001b[0m \u001b[39mValueError: Indexes have overlapping values: ['a']\u001b[39;00m\n\u001b[1;32m    <a href='file:///home/adamw/miniconda3/envs/fb_marketplace/lib/python3.9/site-packages/pandas/core/reshape/concat.py?line=344'>345</a>\u001b[0m \u001b[39m\"\"\"\u001b[39;00m\n\u001b[1;32m    <a href='file:///home/adamw/miniconda3/envs/fb_marketplace/lib/python3.9/site-packages/pandas/core/reshape/concat.py?line=345'>346</a>\u001b[0m op \u001b[39m=\u001b[39m _Concatenator(\n\u001b[1;32m    <a href='file:///home/adamw/miniconda3/envs/fb_marketplace/lib/python3.9/site-packages/pandas/core/reshape/concat.py?line=346'>347</a>\u001b[0m     objs,\n\u001b[1;32m    <a href='file:///home/adamw/miniconda3/envs/fb_marketplace/lib/python3.9/site-packages/pandas/core/reshape/concat.py?line=347'>348</a>\u001b[0m     axis\u001b[39m=\u001b[39maxis,\n\u001b[0;32m   (...)\u001b[0m\n\u001b[1;32m    <a href='file:///home/adamw/miniconda3/envs/fb_marketplace/lib/python3.9/site-packages/pandas/core/reshape/concat.py?line=355'>356</a>\u001b[0m     sort\u001b[39m=\u001b[39msort,\n\u001b[1;32m    <a href='file:///home/adamw/miniconda3/envs/fb_marketplace/lib/python3.9/site-packages/pandas/core/reshape/concat.py?line=356'>357</a>\u001b[0m )\n\u001b[0;32m--> <a href='file:///home/adamw/miniconda3/envs/fb_marketplace/lib/python3.9/site-packages/pandas/core/reshape/concat.py?line=358'>359</a>\u001b[0m \u001b[39mreturn\u001b[39;00m op\u001b[39m.\u001b[39;49mget_result()\n",
      "File \u001b[0;32m~/miniconda3/envs/fb_marketplace/lib/python3.9/site-packages/pandas/core/reshape/concat.py:588\u001b[0m, in \u001b[0;36m_Concatenator.get_result\u001b[0;34m(self)\u001b[0m\n\u001b[1;32m    <a href='file:///home/adamw/miniconda3/envs/fb_marketplace/lib/python3.9/site-packages/pandas/core/reshape/concat.py?line=585'>586</a>\u001b[0m         obj_labels \u001b[39m=\u001b[39m obj\u001b[39m.\u001b[39maxes[\u001b[39m1\u001b[39m \u001b[39m-\u001b[39m ax]\n\u001b[1;32m    <a href='file:///home/adamw/miniconda3/envs/fb_marketplace/lib/python3.9/site-packages/pandas/core/reshape/concat.py?line=586'>587</a>\u001b[0m         \u001b[39mif\u001b[39;00m \u001b[39mnot\u001b[39;00m new_labels\u001b[39m.\u001b[39mequals(obj_labels):\n\u001b[0;32m--> <a href='file:///home/adamw/miniconda3/envs/fb_marketplace/lib/python3.9/site-packages/pandas/core/reshape/concat.py?line=587'>588</a>\u001b[0m             indexers[ax] \u001b[39m=\u001b[39m obj_labels\u001b[39m.\u001b[39;49mget_indexer(new_labels)\n\u001b[1;32m    <a href='file:///home/adamw/miniconda3/envs/fb_marketplace/lib/python3.9/site-packages/pandas/core/reshape/concat.py?line=589'>590</a>\u001b[0m     mgrs_indexers\u001b[39m.\u001b[39mappend((obj\u001b[39m.\u001b[39m_mgr, indexers))\n\u001b[1;32m    <a href='file:///home/adamw/miniconda3/envs/fb_marketplace/lib/python3.9/site-packages/pandas/core/reshape/concat.py?line=591'>592</a>\u001b[0m new_data \u001b[39m=\u001b[39m concatenate_managers(\n\u001b[1;32m    <a href='file:///home/adamw/miniconda3/envs/fb_marketplace/lib/python3.9/site-packages/pandas/core/reshape/concat.py?line=592'>593</a>\u001b[0m     mgrs_indexers, \u001b[39mself\u001b[39m\u001b[39m.\u001b[39mnew_axes, concat_axis\u001b[39m=\u001b[39m\u001b[39mself\u001b[39m\u001b[39m.\u001b[39mbm_axis, copy\u001b[39m=\u001b[39m\u001b[39mself\u001b[39m\u001b[39m.\u001b[39mcopy\n\u001b[1;32m    <a href='file:///home/adamw/miniconda3/envs/fb_marketplace/lib/python3.9/site-packages/pandas/core/reshape/concat.py?line=593'>594</a>\u001b[0m )\n",
      "File \u001b[0;32m~/miniconda3/envs/fb_marketplace/lib/python3.9/site-packages/pandas/core/indexes/base.py:3721\u001b[0m, in \u001b[0;36mIndex.get_indexer\u001b[0;34m(self, target, method, limit, tolerance)\u001b[0m\n\u001b[1;32m   <a href='file:///home/adamw/miniconda3/envs/fb_marketplace/lib/python3.9/site-packages/pandas/core/indexes/base.py?line=3717'>3718</a>\u001b[0m \u001b[39mself\u001b[39m\u001b[39m.\u001b[39m_check_indexing_method(method, limit, tolerance)\n\u001b[1;32m   <a href='file:///home/adamw/miniconda3/envs/fb_marketplace/lib/python3.9/site-packages/pandas/core/indexes/base.py?line=3719'>3720</a>\u001b[0m \u001b[39mif\u001b[39;00m \u001b[39mnot\u001b[39;00m \u001b[39mself\u001b[39m\u001b[39m.\u001b[39m_index_as_unique:\n\u001b[0;32m-> <a href='file:///home/adamw/miniconda3/envs/fb_marketplace/lib/python3.9/site-packages/pandas/core/indexes/base.py?line=3720'>3721</a>\u001b[0m     \u001b[39mraise\u001b[39;00m InvalidIndexError(\u001b[39mself\u001b[39m\u001b[39m.\u001b[39m_requires_unique_msg)\n\u001b[1;32m   <a href='file:///home/adamw/miniconda3/envs/fb_marketplace/lib/python3.9/site-packages/pandas/core/indexes/base.py?line=3722'>3723</a>\u001b[0m \u001b[39mif\u001b[39;00m \u001b[39mlen\u001b[39m(target) \u001b[39m==\u001b[39m \u001b[39m0\u001b[39m:\n\u001b[1;32m   <a href='file:///home/adamw/miniconda3/envs/fb_marketplace/lib/python3.9/site-packages/pandas/core/indexes/base.py?line=3723'>3724</a>\u001b[0m     \u001b[39mreturn\u001b[39;00m np\u001b[39m.\u001b[39marray([], dtype\u001b[39m=\u001b[39mnp\u001b[39m.\u001b[39mintp)\n",
      "\u001b[0;31mInvalidIndexError\u001b[0m: Reindexing only valid with uniquely valued Index objects"
     ]
    }
   ],
   "source": [
    "import pandas as pd\n",
    "import matplotlib.pyplot as plt\n",
    "import numpy as np\n",
    "from sklearn.linear_model import LinearRegression\n",
    "from sklearn.model_selection import train_test_split\n",
    "from sklearn import metrics\n",
    "import joblib\n",
    "from clean_tabular import TabularCleanse\n",
    "\n",
    "cleanse = TabularCleanse('fb_marketplace_conn.json', 'aicore2022!')\n",
    "old_products = pd.read_pickle('old_cleaned_products.pkl')\n",
    "products = pd.read_pickle('cleaned_products.pkl')\n",
    "# old_cleaned_products = products.to_csv('old_cleaned_products.csv')\n",
    "# joined_products = pd.concat([products, old_products], axis=1, join='inner')\n",
    "\n",
    "# products.info()\n",
    "products.head()\n",
    "# new_df = products[products.long.isnull()]\n",
    "# new_df\n",
    "# new_df = cleanse.geocode_locations(new_df, 'local_area')\n",
    "# new_df2 = new_df[new_df.long.isnull()]\n",
    "\n",
    "# new_df2.info()\n",
    "# # TRY GEOCODING AGAIN WITH JUST THE ONES LEFT. First with Local Area and then with city\n",
    "# # cleanse.remove_rows_conditonal(products, 'long', '' )\n",
    "# # new_df.head()\n",
    "# pd.set_option('display.max_columns', None)\n",
    "# new_df2 = new_df.groupby(['local_area'])['local_area'].count()\n",
    "# print(new_df2)"
   ]
  }
 ],
 "metadata": {
  "interpreter": {
   "hash": "8ad305deca811d2df6c57b148dec1e835d783e41823b85ed7281e336135b66d8"
  },
  "kernelspec": {
   "display_name": "Python 3.9.7 ('fb_marketplace')",
   "language": "python",
   "name": "python3"
  },
  "language_info": {
   "codemirror_mode": {
    "name": "ipython",
    "version": 3
   },
   "file_extension": ".py",
   "mimetype": "text/x-python",
   "name": "python",
   "nbconvert_exporter": "python",
   "pygments_lexer": "ipython3",
   "version": "3.9.7"
  },
  "orig_nbformat": 4
 },
 "nbformat": 4,
 "nbformat_minor": 2
}
